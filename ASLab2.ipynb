{
 "cells": [
  {
   "attachments": {},
   "cell_type": "markdown",
   "metadata": {},
   "source": [
    "# **Administração de Sistemas - Laboratório 2**\n",
    "\n",
    "## **ESTE FICHEIRO É A RESOLUÇÃO DO LABORATÓRIO DE 2020-2021**\n",
    "\n",
    "## **Instalação de Máquinas**\n",
    "\n",
    "* **Servidor** - Versão minimal CentOs\n",
    "* **Cliente** - Windows\n",
    "\n",
    "## **Configurações da VM**\n",
    "\n",
    "* Disco -> 10gb\n",
    "* Memória RAM -> 1gb\n",
    "* Mudar placa de rede para **\"Bridged Adapter\"**\n",
    "\n",
    "## **Configurações do CentOS**\n",
    "\n",
    "* Mudar linguagem\n",
    "* Mudar esquema do teclado\n",
    "* Desativar o Kdump\n",
    "* Na parte de network\n",
    "    * Mudar o hostname\n",
    "    * Ativar a network\n",
    "* Desativar a *Security Policy*\n",
    "* Partições\n",
    "    * *I will configure partitioning*\n",
    "    * *Standard Partition*\n",
    "        * **\"/boot\"** -> 250m\n",
    "        * **\"swap\"** -> 2g\n",
    "        * **\"/\"** -> deixar em branco\n",
    "        * Mudar **\"/boot\"** e **\"/\"** para **ext4** \n",
    "* Colocar password de root\n",
    "\n",
    "## **Primeiros Passos**\n",
    "\n",
    "### **Servidor e Cliente**\n",
    "\n",
    "#### **Desativar a firewall**\n",
    "\n",
    "* **Comandos**\n",
    "    * systemctl stop firewalld\n",
    "    * systemctl disable firewalld\n",
    "    * vi /etc/selinux/config\n",
    "        * Remover a parte onde diz **\"SELINUX=enforcing\"** para **\"SELINUX=disabled\"**\n",
    "    * reboot   "
   ]
  },
  {
   "attachments": {},
   "cell_type": "markdown",
   "metadata": {},
   "source": [
    "* **Instalar Serviços**\n",
    "    * **Servidor**\n",
    "        * **Comandos**\n",
    "            * yum install net-tools -y\n",
    "            * yum install bind* -y\n",
    "            * yum install httpd -y\n",
    "            * yum install mdadm -y\n",
    "    * **Client**\n",
    "        * **Comandos**\n",
    "            * yum install net-tools -y\n"
   ]
  },
  {
   "attachments": {},
   "cell_type": "markdown",
   "metadata": {},
   "source": [
    "## **Criação de users e grupos**\n",
    "\n",
    "#### **Criação de user**\n",
    "\n",
    "* **Comandos**\n",
    "    * useradd nomeuser\n",
    "    * passwd nomeuser (definir pass para o user)\n",
    "\n",
    "##### **Criação de user num determinado diretório**\n",
    "\n",
    "* **Comandos**\n",
    "    * criar o diretório primeiro\n",
    "    * useradd -m -d /storage/nomeuser nomeuser (/storage/nomeuser é o caminho pretendido)\n",
    "    * passwd nomeuser (definir pass para o user)\n",
    "\n",
    "#### **Criação de grupos**\n",
    "\n",
    "* **Comandos**\n",
    "    * Criar um grupo\n",
    "        * groupadd nomegrupo\n",
    "    * Adicionar users ao grupo\n",
    "        * gpasswd -a nomeuser nomegrupo\n",
    "    * Definir administrador do grupo\n",
    "        * gpasswd -A nomeuser nomegrupo\n",
    "    * Remover users do grupo (apenas admin do grupo)\n",
    "        * gpasswd -d nomeuser nomegrupo\n",
    "    * Diretoria comum para o grupo\n",
    "        * mkdir /home/nomepastagrupo\n",
    "        * chgrp nomegrupo /home/nomepastagrupo\n",
    "        * chmod g+ws /home/nomepastagrupo"
   ]
  },
  {
   "attachments": {},
   "cell_type": "markdown",
   "metadata": {},
   "source": [
    "## **DNS SERVER**\n",
    "\n",
    "#### **Servidor**\n",
    "\n",
    "* vi /etc/named.conf\n",
    "    * Acrescentar a opção \"any;\" aos parâmetros *listen-on port 53* e *allow-query*\n",
    "    * Adicionar as seguintes configurações das zonas *master* e *reverse* para os domínios pedidos no enunciado:\n",
    "        * zone \"gules.org\" IN { <br />\n",
    "            type master; <br />\n",
    "            file \"/var/named/gules.org.hosts\"; <br />\n",
    "        }; \n",
    "        * zone \"300emfrente.eu\" IN { <br />\n",
    "            type master; <br />\n",
    "            file \"/var/named/300emfrente.eu.hosts\"; <br />\n",
    "        }\n",
    "        * zone \"then.com\" IN { <br />\n",
    "            type master; <br />\n",
    "            file \"/var/named/then.com.hosts\"; <br />\n",
    "        }\n",
    "        * zone \"22.200.191.in-addr.arpa\" IN { <br />\n",
    "            type master; <br />\n",
    "            file \"/var/named/22.200.191.in-addr.arpa.hosts\"; <br />\n",
    "        }\n",
    "        * zone \"45.147.92.in-addr.arpa\" IN { <br />\n",
    "            type master; <br />\n",
    "            file \"/var/named/45.147.92.in-addr.arpa.hosts\"; <br />\n",
    "        }\n",
    "        * zone \"22.168.194.in-addr.arpa\" IN { <br />\n",
    "            type master; <br />\n",
    "            file \"/var/named/22.168.194.in-addr.arpa.hosts\"; <br />\n",
    "        }\n",
    "* De seguida criar os ficheiros *hosts*\n",
    "* vi /var/named/gules.org.hosts\n",
    "    * Colocar no ficheiro a seguinte configuração:\n"
   ]
  },
  {
   "cell_type": "raw",
   "metadata": {},
   "source": [
    "$ttl 38400\n",
    "@   IN      SOA     server19314.asistemas.pt. mail.gules.org. (\n",
    "                    1165190726 ;serial\n",
    "                    10800 ;refresh\n",
    "                    3600 ;retry\n",
    "                    604800 ;expire\n",
    "                    38400 ;minimum\n",
    "                    )\n",
    "    IN  NS  server19314.asistemas.pt.\n",
    "    IN  MX  10 as-smtp.300emfrente.org\n",
    "    IN  A   8.3.2.14\n",
    "ftp IN  A   8.3.2.15\n",
    "webmail   IN    A   8.3.2.16"
   ]
  },
  {
   "attachments": {},
   "cell_type": "markdown",
   "metadata": {},
   "source": [
    "* vi /var/named/300emfrente.eu.hosts"
   ]
  },
  {
   "cell_type": "raw",
   "metadata": {},
   "source": [
    "$ttl 38400\n",
    "@   IN      SOA     server19314.asistemas.pt. mail.300emfrente.eu. (\n",
    "                    1165190726 ;serial\n",
    "                    10800 ;refresh\n",
    "                    3600 ;retry\n",
    "                    604800 ;expire\n",
    "                    38400 ;minimum\n",
    "                    )\n",
    "    IN  NS  server19314.asistemas.pt.\n",
    "    IN  MX  10 as-smtp.300emfrente.org\n",
    "    IN  A   14.21.1.14\n",
    "www IN  A   77.8.90.1\n",
    "webmail   IN    A   11.21.1.16\n",
    "as-smtp     IN  A   11.0.0.1"
   ]
  },
  {
   "attachments": {},
   "cell_type": "markdown",
   "metadata": {},
   "source": [
    "* vi /var/named/then.com.hosts"
   ]
  },
  {
   "cell_type": "raw",
   "metadata": {},
   "source": [
    "$ttl 38400\n",
    "@   IN      SOA     server19314.asistemas.pt. mail.then.com. (\n",
    "                    1165190726 ;serial\n",
    "                    10800 ;refresh\n",
    "                    3600 ;retry\n",
    "                    604800 ;expire\n",
    "                    38400 ;minimum\n",
    "                    )\n",
    "    IN  NS  server19314.asistemas.pt.\n",
    "    IN  MX  10 as-smtp.300emfrente.org\n",
    "    IN  A   192.200.22.14\n",
    "ftp IN  A   92.147.45.1\n",
    "webmail   IN    A   194.168.22.16"
   ]
  },
  {
   "attachments": {},
   "cell_type": "markdown",
   "metadata": {},
   "source": [
    "* vi /var/named/22.200.191.in-addr.arpa.hosts"
   ]
  },
  {
   "cell_type": "raw",
   "metadata": {},
   "source": [
    "$ttl 38400\n",
    "@   IN  SOA   server19314.asistemas.pt. mail.then.com. (\n",
    "                1165190726\n",
    "                10800\n",
    "                3600\n",
    "                604800\n",
    "                38400\n",
    "                )\n",
    "    IN  NS  server19314.asistemas.pt.\n",
    "14  IN  PTR  then.com"
   ]
  },
  {
   "attachments": {},
   "cell_type": "markdown",
   "metadata": {},
   "source": [
    "* vi /var/named/45.147.92.in-addr.arpa.hosts"
   ]
  },
  {
   "cell_type": "raw",
   "metadata": {},
   "source": [
    "$ttl 38400\n",
    "@   IN  SOA   server19314.asistemas.pt. mail.then.com. (\n",
    "                1165190726\n",
    "                10800\n",
    "                3600\n",
    "                604800\n",
    "                38400\n",
    "                )\n",
    "    IN  NS  server19314.asistemas.pt.\n",
    "1   IN  PTR ftp.then.com"
   ]
  },
  {
   "attachments": {},
   "cell_type": "markdown",
   "metadata": {},
   "source": [
    "* vi /var/named/22.168.194.in-addr.arpa.hosts"
   ]
  },
  {
   "attachments": {},
   "cell_type": "raw",
   "metadata": {},
   "source": [
    "$ttl 38400\n",
    "@   IN  SOA   server19314.asistemas.pt. mail.then.com. (\n",
    "                1165190726\n",
    "                10800\n",
    "                3600\n",
    "                604800\n",
    "                38400\n",
    "                )\n",
    "    IN  NS  server19314.asistemas.pt.\n",
    "16  IN  PTR  webmail.then.com"
   ]
  },
  {
   "attachments": {},
   "cell_type": "markdown",
   "metadata": {},
   "source": [
    "* systemctl enable named\n",
    "* systemctl start named"
   ]
  },
  {
   "attachments": {},
   "cell_type": "markdown",
   "metadata": {},
   "source": [
    "### **TESTE NA MÁQUINA CLIENTE**\n",
    "\n",
    "Mudar DNS da placa de rede para o IP do servidor"
   ]
  },
  {
   "attachments": {},
   "cell_type": "markdown",
   "metadata": {},
   "source": [
    "## **HTTP SERVER**\n",
    "\n",
    "#### **Servidor**\n",
    "\n",
    "* systemctl start httpd\n",
    "* systemctl enable httpd\n",
    "* vi /etc/httpd/conf/httpd.conf\n",
    "    * Na secção “\\<Directory \"/\">” do ficheiro, alterar a opção “AllowOverride\n",
    "        none” para “AllowOverride AuthConfig”.\n",
    "    * Na secção “\\<IfModule dir_module>” alterar “DirectoryIndex index.html”\n",
    "        para “DirectoryIndex inicio.html”.\n",
    "* vi /etc/httpd/conf.d/userdir.conf\n",
    "    * No ficheiro comentar a opção “UserDir disabled” e colocar “UserDir\n",
    "        homepage” e na secção inferior do ficheiro alterar “\\<Directory\n",
    "        “/home/*/public_html”>” para “\\<Directory “/home/\\*/homepage”>”.\n",
    "* useradd asuser1\n",
    "* passwd asuser1 (definir pass do user)\n",
    "* usermod -a -G users asuser1\n",
    "* mkdir /home/asuser1/homepage\n",
    "* vi /home/asuser1/homepage/inicio.html\n",
    "    * Escrever no ficheiro \"asuser1\"\n",
    "* cd /home/asuser1\n",
    "* chown asuser1:asuser1 homepage -R\n",
    "* chmod 755 /home/asuser1 -R\n",
    "\n",
    "* useradd asuser2\n",
    "* passwd asuser2 (definir pass do user)\n",
    "* usermod -a -G users asuser2\n",
    "* mkdir /home/asuser2/homepage\n",
    "* vi /home/asuser2/homepage/inicio.html\n",
    "    * Escrever no ficheiro \"asuser2\"\n",
    "* cd /home/asuser2\n",
    "* chown asuser2:asuser2 homepage -R\n",
    "* chmod 755 /home/asuser2 -R\n",
    "* systemctl restart httpd"
   ]
  },
  {
   "attachments": {},
   "cell_type": "markdown",
   "metadata": {},
   "source": [
    "## **APACHE**\n",
    "\n",
    "* cd /home/asuser1/homepage\n",
    "* mkdir private\n",
    "* vi .htaccess\n",
    "    * Colocar no ficheiro as seguintes instruções:\n",
    "        *   AuthName \"Diretorio Privado – asuser1\" <br />\n",
    "            AuthType Basic <br />\n",
    "            AuthUserFile /home/asuser1/.user_passwd <br />\n",
    "            require valid-user <br />\n",
    "* cd /home/asuser1\n",
    "* htpasswd -c .user_passwd private (definir pass)\n",
    "* htpasswd .user_passwd privado (definir pass)\n",
    "\n",
    "* cd /home/asuser2/homepage\n",
    "* mkdir private\n",
    "* vi .htaccess\n",
    "    * Colocar no ficheiro as seguintes instruções:\n",
    "        *   AuthName \"Diretorio Privado – asuser2\" <br />\n",
    "            AuthType Basic <br />\n",
    "            AuthUserFile /home/asuser1/.user_passwd <br />\n",
    "            require valid-user <br />\n",
    "* cd /home/asuser2\n",
    "* htpasswd -c .user_passwd rdis (definir pass)\n"
   ]
  },
  {
   "attachments": {},
   "cell_type": "markdown",
   "metadata": {},
   "source": [
    "## **VIRTUALHOSTS**\n",
    "## **IP É O DO SERVIDOR!!!!**\n",
    "\n",
    "* vi /etc/named.conf\n",
    "    * Acrescentar a opção \"any; \" aos parâmetros listen-on port 53 e allowquery\n",
    "    * Adicionar as seguintes configurações das zonas master e reverse   para os domínios pedidos no enunciados :\n",
    "        * zone \"allow.org\" IN { <br />\n",
    "            type master; <br />\n",
    "            file \"/var/named/allow.org.hosts\"; <br />\n",
    "        }; <br />\n",
    "        * zone \"circle360.pt\" IN { <br />\n",
    "            type master; <br />\n",
    "            file \"/var/named/circle360.pt.hosts\"; <br />\n",
    "        }; <br />\n",
    "        * zone \"festas.pt\" IN { <br />\n",
    "            type master; <br />\n",
    "            file \"/var/named/festas.pt.hosts\"; <br />\n",
    "        };\n",
    "* vi /var/named/allow.org.hosts\n",
    "    * Colocar no ficheiro a seguinte configuração:"
   ]
  },
  {
   "cell_type": "raw",
   "metadata": {},
   "source": [
    "$ttl 38400\n",
    "@   IN      SOA     server19314.asistemas.pt. mail.allow.org. (\n",
    "                    1165190726 ;serial\n",
    "                    10800 ;refresh\n",
    "                    3600 ;retry\n",
    "                    604800 ;expire\n",
    "                    38400 ;minimum\n",
    "                    )\n",
    "    IN      NS      server19314.asistemas.pt.\n",
    "    IN      A       192.168.1.101\n",
    "www IN      A       192.168.1.101"
   ]
  },
  {
   "attachments": {},
   "cell_type": "markdown",
   "metadata": {},
   "source": [
    "## **IP É O DO SERVIDOR!!!!**\n",
    "* vi /var/named/circle360.pt.hosts\n",
    "    * Colocar no ficheiro a seguinte configuração:"
   ]
  },
  {
   "cell_type": "raw",
   "metadata": {},
   "source": [
    "$ttl 38400\n",
    "@   IN      SOA     server19314.asistemas.pt. mail.circle360.pt. (\n",
    "                    1165190726 ;serial\n",
    "                    10800 ;refresh\n",
    "                    3600 ;retry\n",
    "                    604800 ;expire\n",
    "                    38400 ;minimum\n",
    "                    )\n",
    "    IN      NS      server19314.asistemas.pt.\n",
    "    IN      A       192.168.1.101\n",
    "www IN      A       192.168.1.101"
   ]
  },
  {
   "attachments": {},
   "cell_type": "markdown",
   "metadata": {},
   "source": [
    "## **IP É O DO SERVIDOR!!!!**\n",
    "* vi /var/named/festas.pt.hosts\n",
    "    * Colocar no ficheiro a seguinte configuração:"
   ]
  },
  {
   "cell_type": "raw",
   "metadata": {},
   "source": [
    "$ttl 38400\n",
    "@   IN      SOA     server19314.asistemas.pt. mail.festas.pt. (\n",
    "                    1165190726 ;serial\n",
    "                    10800 ;refresh\n",
    "                    3600 ;retry\n",
    "                    604800 ;expire\n",
    "                    38400 ;minimum\n",
    "                    )\n",
    "    IN      NS      server19314.asistemas.pt.\n",
    "    IN      A       192.168.1.101\n",
    "www IN      A       192.168.1.101"
   ]
  },
  {
   "attachments": {},
   "cell_type": "markdown",
   "metadata": {},
   "source": [
    "## **IP É O DO SERVIDOR!!!!**\n",
    "* vi /etc/httpd/conf/httpd.conf\n",
    "    * Acrescentar as instruções “Listen 25000” e “Listen 28000” para o\n",
    "        servidor conseguir responder a pedidos nas portas 25000 e 28000,\n",
    "        respetivamente;\n",
    "    * De modo a alojar as páginas dos 3 domínios nas portas 25000 e     28000, é necessário acrescentar a seguinte configuração dos VirtualHosts :\n",
    "        * NameVirtualHost 192.168.1.101:25000 <br />\n",
    "          NameVirtualHost 192.168.1.101:28000 <br />\n",
    "\n",
    "          \\<VirtualHost 192.168.1.101:25000 192.168.1.101:28000> <br />\n",
    "          DocumentRoot \"/dominios/allow.org/\" <br />\n",
    "          ServerName www.allow.org <br />\n",
    "          ServerAlias allow.org <br />\n",
    "          \\<Directory \"/dominios/allow.org\"> <br />\n",
    "          Options Indexes FollowSymLinks <br />\n",
    "          AllowOverride All <br />\n",
    "          Order allow,deny <br />\n",
    "          Allow from all <br />\n",
    "          Require method GET POST OPTIONS <br />\n",
    "          \\</Directory> <br />\n",
    "          \\</VirtualHost> <br />\n",
    "\n",
    "          \\<VirtualHost 192.168.1.101:25000 192.168.1.101:28000> <br />\n",
    "          DocumentRoot \"/dominios/circle360.pt/\" <br />\n",
    "          ServerName www.circle360.pt <br />\n",
    "          ServerAlias circle360.tp <br />\n",
    "          \\<Directory \"/dominios/circle360.pt\"> <br />\n",
    "          Options Indexes FollowSymLinks <br />\n",
    "          AllowOverride All <br />\n",
    "          Order allow,deny <br />\n",
    "          Allow from all <br />\n",
    "          Require method GET POST OPTIONS <br />\n",
    "          \\</Directory> <br />\n",
    "          \\</VirtualHost> <br />\n",
    "\n",
    "          \\<VirtualHost 192.168.1.101:25000 192.168.1.101:28000> <br />\n",
    "          DocumentRoot \"/dominios/festas.pt/\" <br />\n",
    "          ServerName www.festas.pt <br />\n",
    "          ServerAlias festas.pt <br />\n",
    "          \\<Directory \"/dominios/festas.pt\"> <br />\n",
    "          Options Indexes FollowSymLinks <br />\n",
    "          AllowOverride All <br />\n",
    "          Order allow,deny <br />\n",
    "          Allow from all <br />\n",
    "          Require method GET POST OPTIONS <br />\n",
    "          \\</Directory> <br />\n",
    "          \\</VirtualHost> <br />\n",
    "\n",
    "* mkdir /dominios\n",
    "* mkdir /dominios/allow.org\n",
    "* vi /dominios/allow.org/inicio.html\n",
    "    * Escrever no ficheiro \"allow.org\"\n",
    "* mkdir /dominios/circle360.pt\n",
    "* vi /dominios/circle360.pt/inicio.html\n",
    "    * Escrever no ficheiro \"circle360.pt\"\n",
    "* mkdir /dominios/festas.pt\n",
    "* vi /dominios/festas.pt/inicio.html\n",
    "    * Escrever no ficheiro \"festas.pt\"\n",
    "* chmod 755 /dominios -R\n",
    "* systemctl restart named\n",
    "* systemctl restart httpd\n",
    "        "
   ]
  },
  {
   "attachments": {},
   "cell_type": "markdown",
   "metadata": {},
   "source": [
    "## **RAID**\n",
    "\n",
    "* Desligar a máquina\n",
    "* Criar os discos no virtual box\n",
    "* mdadm --create --verbose /dev/md0 --level=1 --raid-devices=2 /dev/sdb /dev/sdc --spare-devices=1 /dev/sdd\n",
    "* mkfs.ext4 /dev/md0\n",
    "* mkdir /dataraid1\n",
    "* mount /dev/md0 /dataraid1\n",
    "\n",
    "\n",
    "#### **Comandos úteis**\n",
    "\n",
    "* mdadm --detail /dev/md0 -> Ver o estado da RAID\n",
    "* mdadm --manage /dev/md0 -> Danificar o disco\n",
    "* mdadm --manage /dev/md0 -> Remover o disco da RAID\n",
    "* mdadm --add /dev/md0 /dev/sde -> Adicionar um novo disco á RAID\n"
   ]
  }
 ],
 "metadata": {
  "language_info": {
   "name": "python"
  },
  "orig_nbformat": 4
 },
 "nbformat": 4,
 "nbformat_minor": 2
}
